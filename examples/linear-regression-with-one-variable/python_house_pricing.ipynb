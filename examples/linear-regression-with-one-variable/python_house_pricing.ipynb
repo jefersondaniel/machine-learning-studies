{
 "cells": [
  {
   "cell_type": "code",
   "execution_count": 1,
   "metadata": {},
   "outputs": [],
   "source": [
    "from sklearn import metrics\n",
    "\n",
    "def make_hyphotesis_function(theta):\n",
    "    def fn(size_in_meters):\n",
    "        return float(theta[0]) + float(theta[1]) * float(size_in_meters)\n",
    "    return fn\n",
    "\n",
    "\n",
    "def cost_function(theta, training_set):\n",
    "    sum_of_squared_errors = 0.0\n",
    "    hyphotesis_function = make_hyphotesis_function(theta)\n",
    "    for example in training_set:\n",
    "        sum_of_squared_errors += (hyphotesis_function(example[0]) - example[1]) ** 2\n",
    "    return (1.0 / 2.0 * len(training_set)) * sum_of_squared_errors\n",
    "\n",
    "\n",
    "def gradient_descent_1(training_set, learning_rate=0.0009, interactions=1000):\n",
    "    theta = (0.0, 0.0)\n",
    "    m = float(len(training_set))\n",
    "    for i in range(0, interactions):\n",
    "        hyphotesis_function = make_hyphotesis_function(theta)\n",
    "        theta_0_sum = sum([hyphotesis_function(x) - y for (x, y) in training_set])\n",
    "        theta_1_sum = sum([(hyphotesis_function(x) - y) * x for (x, y) in training_set])\n",
    "        theta = (\n",
    "            theta[0] - (learning_rate / m) * theta_0_sum,\n",
    "            theta[1] - (learning_rate / m) * theta_1_sum,\n",
    "        )\n",
    "    return theta\n",
    "\n",
    "\n",
    "def house_price(size_in_meters):\n",
    "    return 1.0 + 1.5 * size_in_meters"
   ]
  },
  {
   "cell_type": "code",
   "execution_count": 2,
   "metadata": {},
   "outputs": [
    {
     "name": "stdout",
     "output_type": "stream",
     "text": [
      "Traning set is [(10.0, 16.0), (20.0, 31.0), (30.0, 46.0), (40.0, 61.0), (50.0, 76.0), (60.0, 91.0), (70.0, 106.0)]\n",
      "Testing set is [(80.0, 121.0), (90.0, 136.0)]\n",
      "\n",
      "Running gradient descent:\n",
      "\n",
      "\tresult => (0.19006923469380588, 1.5162002346817771)\n",
      "\tlabels => [121.0, 136.0]\n",
      "\tpredictions => [121.48608800923598, 136.64809035605373]\n",
      "\tmean_squared_error => 0.3281513311664258\n",
      "\n"
     ]
    }
   ],
   "source": [
    "dataset = [(float(x), float(house_price(x))) for x in range(10, 100, 10)]\n",
    "\n",
    "training_set = dataset[0:-2]\n",
    "testing_set = dataset[-2:]\n",
    "\n",
    "print('Traning set is {}'.format(training_set))\n",
    "print('Testing set is {}'.format(testing_set))\n",
    "print('\\nRunning gradient descent:\\n')\n",
    "\n",
    "theta = gradient_descent_1(training_set)\n",
    "predictions = [\n",
    "    make_hyphotesis_function(theta)(size) for (size, price) in testing_set\n",
    "]\n",
    "targets = [price for (size, price) in testing_set]\n",
    "mean_squared_error = metrics.mean_squared_error(predictions, targets)\n",
    "\n",
    "print('\\tresult => {}'.format(theta))\n",
    "print('\\tlabels => {}'.format(targets))\n",
    "print('\\tpredictions => {}'.format(predictions))\n",
    "print('\\tmean_squared_error => {}\\n'.format(mean_squared_error))"
   ]
  }
 ],
 "metadata": {
  "kernelspec": {
   "display_name": "Python 3",
   "language": "python",
   "name": "python3"
  },
  "language_info": {
   "codemirror_mode": {
    "name": "ipython",
    "version": 3
   },
   "file_extension": ".py",
   "mimetype": "text/x-python",
   "name": "python",
   "nbconvert_exporter": "python",
   "pygments_lexer": "ipython3",
   "version": "3.7.3"
  }
 },
 "nbformat": 4,
 "nbformat_minor": 2
}
