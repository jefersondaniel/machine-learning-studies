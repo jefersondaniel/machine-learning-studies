{
  "nbformat": 4,
  "nbformat_minor": 0,
  "metadata": {
    "colab": {
      "name": "imdb_lstm.ipynb",
      "version": "0.3.2",
      "provenance": [],
      "collapsed_sections": [],
      "include_colab_link": true
    },
    "kernelspec": {
      "name": "python3",
      "display_name": "Python 3"
    },
    "accelerator": "GPU"
  },
  "cells": [
    {
      "cell_type": "markdown",
      "metadata": {
        "id": "view-in-github",
        "colab_type": "text"
      },
      "source": [
        "<a href=\"https://colab.research.google.com/github/jefersondaniel/machine-learning-studies/blob/master/examples/recurrent/imdb_lstm.ipynb\" target=\"_parent\"><img src=\"https://colab.research.google.com/assets/colab-badge.svg\" alt=\"Open In Colab\"/></a>"
      ]
    },
    {
      "cell_type": "code",
      "metadata": {
        "id": "-k8gumoTl-aV",
        "colab_type": "code",
        "colab": {}
      },
      "source": [
        "!pip install tensorflow==1.14"
      ],
      "execution_count": 0,
      "outputs": []
    },
    {
      "cell_type": "code",
      "metadata": {
        "id": "_JmttW6m-rqQ",
        "colab_type": "code",
        "colab": {}
      },
      "source": [
        "import matplotlib.pyplot as plt\n",
        "from tensorflow.keras.datasets import imdb\n",
        "from tensorflow.keras.preprocessing import sequence\n",
        "from tensorflow.keras.models import Sequential\n",
        "from tensorflow.keras.layers import Embedding, LSTM, Activation, Dense\n",
        "from tensorflow.keras.optimizers import RMSprop"
      ],
      "execution_count": 0,
      "outputs": []
    },
    {
      "cell_type": "code",
      "metadata": {
        "id": "rd6CUc_W6_o5",
        "colab_type": "code",
        "colab": {
          "base_uri": "https://localhost:8080/",
          "height": 72
        },
        "outputId": "98dedadd-dd81-410c-f140-5058ee4da619"
      },
      "source": [
        "(X_train, y_train), (X_test, y_test) = imdb.load_data(num_words=1000, skip_top=10)\n",
        "\n",
        "X_train = sequence.pad_sequences(X_train, maxlen=80)\n",
        "X_test = sequence.pad_sequences(X_test, maxlen=80)\n",
        "\n",
        "X_train.shape"
      ],
      "execution_count": 3,
      "outputs": [
        {
          "output_type": "stream",
          "text": [
            "Downloading data from https://storage.googleapis.com/tensorflow/tf-keras-datasets/imdb.npz\n",
            "17465344/17464789 [==============================] - 0s 0us/step\n"
          ],
          "name": "stdout"
        },
        {
          "output_type": "execute_result",
          "data": {
            "text/plain": [
              "(25000, 80)"
            ]
          },
          "metadata": {
            "tags": []
          },
          "execution_count": 3
        }
      ]
    },
    {
      "cell_type": "code",
      "metadata": {
        "id": "NzWSLc00-5_Q",
        "colab_type": "code",
        "colab": {
          "base_uri": "https://localhost:8080/",
          "height": 272
        },
        "outputId": "e3821415-57c4-490d-c576-914c8f918cdd"
      },
      "source": [
        "model = Sequential()\n",
        "model.add(Embedding(1000, 30, input_length=80))\n",
        "model.add(LSTM(64, input_dim=30, dropout=0.4, recurrent_dropout=0.4))\n",
        "model.add(Dense(1, activation='sigmoid'))\n",
        "\n",
        "model.summary()"
      ],
      "execution_count": 13,
      "outputs": [
        {
          "output_type": "stream",
          "text": [
            "Model: \"sequential_6\"\n",
            "_________________________________________________________________\n",
            "Layer (type)                 Output Shape              Param #   \n",
            "=================================================================\n",
            "embedding_6 (Embedding)      (None, 80, 30)            30000     \n",
            "_________________________________________________________________\n",
            "lstm_6 (LSTM)                (None, 64)                24320     \n",
            "_________________________________________________________________\n",
            "dense_6 (Dense)              (None, 1)                 65        \n",
            "=================================================================\n",
            "Total params: 54,385\n",
            "Trainable params: 54,385\n",
            "Non-trainable params: 0\n",
            "_________________________________________________________________\n"
          ],
          "name": "stdout"
        }
      ]
    },
    {
      "cell_type": "code",
      "metadata": {
        "id": "GAYVJRH6ENMg",
        "colab_type": "code",
        "colab": {
          "base_uri": "https://localhost:8080/",
          "height": 926
        },
        "outputId": "5bd19310-a77c-41c0-9347-603769624ea3"
      },
      "source": [
        "model.compile(\n",
        "    optimizer=RMSprop(lr=1e-3),\n",
        "    loss='binary_crossentropy',\n",
        "    metrics=['acc']\n",
        ")\n",
        "\n",
        "history = model.fit(\n",
        "    X_train,\n",
        "    y_train,\n",
        "    batch_size=64,\n",
        "    epochs=10,\n",
        "    validation_split=0.2\n",
        ")\n",
        "\n",
        "acc = history.history['acc']\n",
        "val_acc = history.history['val_acc']\n",
        "loss = history.history['loss']\n",
        "val_loss = history.history['val_loss']\n",
        "epochs = range(1, len(acc) + 1)\n",
        "\n",
        "plt.plot(epochs, acc, 'bo', label='Training acc')\n",
        "plt.plot(epochs, val_acc, 'b', label='Validation acc')\n",
        "plt.title('Training and validation accuracy')\n",
        "plt.legend()\n",
        "\n",
        "plt.figure()\n",
        "plt.plot(epochs, loss, 'bo', label='Training loss')\n",
        "plt.plot(epochs, val_loss, 'b', label='Validation loss')\n",
        "plt.title('Training and validation loss')\n",
        "plt.legend()\n",
        "\n",
        "plt.show()"
      ],
      "execution_count": 14,
      "outputs": [
        {
          "output_type": "stream",
          "text": [
            "Train on 20000 samples, validate on 5000 samples\n",
            "Epoch 1/10\n",
            "20000/20000 [==============================] - 50s 2ms/sample - loss: 0.5981 - acc: 0.6773 - val_loss: 0.4665 - val_acc: 0.7730\n",
            "Epoch 2/10\n",
            "20000/20000 [==============================] - 49s 2ms/sample - loss: 0.4810 - acc: 0.7743 - val_loss: 0.4636 - val_acc: 0.7788\n",
            "Epoch 3/10\n",
            "20000/20000 [==============================] - 49s 2ms/sample - loss: 0.4560 - acc: 0.7946 - val_loss: 0.4536 - val_acc: 0.7808\n",
            "Epoch 4/10\n",
            "20000/20000 [==============================] - 49s 2ms/sample - loss: 0.4469 - acc: 0.7988 - val_loss: 0.4648 - val_acc: 0.7798\n",
            "Epoch 5/10\n",
            "20000/20000 [==============================] - 49s 2ms/sample - loss: 0.4340 - acc: 0.8036 - val_loss: 0.4422 - val_acc: 0.7938\n",
            "Epoch 6/10\n",
            "20000/20000 [==============================] - 48s 2ms/sample - loss: 0.4252 - acc: 0.8105 - val_loss: 0.4702 - val_acc: 0.7996\n",
            "Epoch 7/10\n",
            "20000/20000 [==============================] - 49s 2ms/sample - loss: 0.4177 - acc: 0.8120 - val_loss: 0.4325 - val_acc: 0.8034\n",
            "Epoch 8/10\n",
            "20000/20000 [==============================] - 49s 2ms/sample - loss: 0.4135 - acc: 0.8159 - val_loss: 0.4183 - val_acc: 0.8040\n",
            "Epoch 9/10\n",
            "20000/20000 [==============================] - 49s 2ms/sample - loss: 0.4080 - acc: 0.8194 - val_loss: 0.4281 - val_acc: 0.8030\n",
            "Epoch 10/10\n",
            "20000/20000 [==============================] - 49s 2ms/sample - loss: 0.3993 - acc: 0.8250 - val_loss: 0.4144 - val_acc: 0.8158\n"
          ],
          "name": "stdout"
        },
        {
          "output_type": "display_data",
          "data": {
            "image/png": "[encoded data removed]",
            "text/plain": [
              "<Figure size 432x288 with 1 Axes>"
            ]
          },
          "metadata": {
            "tags": []
          }
        },
        {
          "output_type": "display_data",
          "data": {
            "image/png": "[encoded data removed]",
            "text/plain": [
              "<Figure size 432x288 with 1 Axes>"
            ]
          },
          "metadata": {
            "tags": []
          }
        }
      ]
    }
  ]
}