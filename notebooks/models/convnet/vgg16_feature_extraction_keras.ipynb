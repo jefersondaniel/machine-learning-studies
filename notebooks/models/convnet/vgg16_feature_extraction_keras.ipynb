{
  "nbformat": 4,
  "nbformat_minor": 0,
  "metadata": {
    "colab": {
      "name": "Keras Feature Extraction.ipynb",
      "version": "0.3.2",
      "provenance": []
    },
    "kernelspec": {
      "name": "python3",
      "display_name": "Python 3"
    },
    "accelerator": "GPU"
  },
  "cells": [
    {
      "cell_type": "code",
      "metadata": {
        "id": "45pD3RvyCdyR",
        "colab_type": "code",
        "colab": {
          "base_uri": "https://localhost:8080/",
          "height": 632
        },
        "outputId": "99364757-d239-45cb-8feb-635f0dcf98ad"
      },
      "source": [
        "!pip install tensorflow-gpu==1.14.0 keras==2.2.4 numpy scikit-learn"
      ],
      "execution_count": 1,
      "outputs": [
        {
          "output_type": "stream",
          "text": [
            "Collecting tensorflow-gpu==1.14.0\n",
            "\u001b[?25l  Downloading https://files.pythonhosted.org/packages/76/04/43153bfdfcf6c9a4c38ecdb971ca9a75b9a791bb69a764d652c359aca504/tensorflow_gpu-1.14.0-cp36-cp36m-manylinux1_x86_64.whl (377.0MB)\n",
            "\u001b[K     |████████████████████████████████| 377.0MB 73kB/s \n",
            "\u001b[?25hRequirement already satisfied: keras==2.2.4 in /usr/local/lib/python3.6/dist-packages (2.2.4)\n",
            "Requirement already satisfied: numpy in /usr/local/lib/python3.6/dist-packages (1.16.4)\n",
            "Requirement already satisfied: scikit-learn in /usr/local/lib/python3.6/dist-packages (0.21.2)\n",
            "Requirement already satisfied: termcolor>=1.1.0 in /usr/local/lib/python3.6/dist-packages (from tensorflow-gpu==1.14.0) (1.1.0)\n",
            "Requirement already satisfied: six>=1.10.0 in /usr/local/lib/python3.6/dist-packages (from tensorflow-gpu==1.14.0) (1.12.0)\n",
            "Requirement already satisfied: absl-py>=0.7.0 in /usr/local/lib/python3.6/dist-packages (from tensorflow-gpu==1.14.0) (0.7.1)\n",
            "Requirement already satisfied: tensorflow-estimator<1.15.0rc0,>=1.14.0rc0 in /usr/local/lib/python3.6/dist-packages (from tensorflow-gpu==1.14.0) (1.14.0rc1)\n",
            "Requirement already satisfied: grpcio>=1.8.6 in /usr/local/lib/python3.6/dist-packages (from tensorflow-gpu==1.14.0) (1.15.0)\n",
            "Requirement already satisfied: keras-preprocessing>=1.0.5 in /usr/local/lib/python3.6/dist-packages (from tensorflow-gpu==1.14.0) (1.1.0)\n",
            "Requirement already satisfied: protobuf>=3.6.1 in /usr/local/lib/python3.6/dist-packages (from tensorflow-gpu==1.14.0) (3.7.1)\n",
            "Requirement already satisfied: astor>=0.6.0 in /usr/local/lib/python3.6/dist-packages (from tensorflow-gpu==1.14.0) (0.8.0)\n",
            "Requirement already satisfied: wheel>=0.26 in /usr/local/lib/python3.6/dist-packages (from tensorflow-gpu==1.14.0) (0.33.4)\n",
            "Requirement already satisfied: keras-applications>=1.0.6 in /usr/local/lib/python3.6/dist-packages (from tensorflow-gpu==1.14.0) (1.0.8)\n",
            "Requirement already satisfied: gast>=0.2.0 in /usr/local/lib/python3.6/dist-packages (from tensorflow-gpu==1.14.0) (0.2.2)\n",
            "Collecting tensorboard<1.15.0,>=1.14.0 (from tensorflow-gpu==1.14.0)\n",
            "\u001b[?25l  Downloading https://files.pythonhosted.org/packages/91/2d/2ed263449a078cd9c8a9ba50ebd50123adf1f8cfbea1492f9084169b89d9/tensorboard-1.14.0-py3-none-any.whl (3.1MB)\n",
            "\u001b[K     |████████████████████████████████| 3.2MB 37.6MB/s \n",
            "\u001b[?25hRequirement already satisfied: google-pasta>=0.1.6 in /usr/local/lib/python3.6/dist-packages (from tensorflow-gpu==1.14.0) (0.1.7)\n",
            "Requirement already satisfied: wrapt>=1.11.1 in /usr/local/lib/python3.6/dist-packages (from tensorflow-gpu==1.14.0) (1.11.1)\n",
            "Requirement already satisfied: scipy>=0.14 in /usr/local/lib/python3.6/dist-packages (from keras==2.2.4) (1.3.0)\n",
            "Requirement already satisfied: pyyaml in /usr/local/lib/python3.6/dist-packages (from keras==2.2.4) (3.13)\n",
            "Requirement already satisfied: h5py in /usr/local/lib/python3.6/dist-packages (from keras==2.2.4) (2.8.0)\n",
            "Requirement already satisfied: joblib>=0.11 in /usr/local/lib/python3.6/dist-packages (from scikit-learn) (0.13.2)\n",
            "Requirement already satisfied: setuptools in /usr/local/lib/python3.6/dist-packages (from protobuf>=3.6.1->tensorflow-gpu==1.14.0) (41.0.1)\n",
            "Requirement already satisfied: werkzeug>=0.11.15 in /usr/local/lib/python3.6/dist-packages (from tensorboard<1.15.0,>=1.14.0->tensorflow-gpu==1.14.0) (0.15.4)\n",
            "Requirement already satisfied: markdown>=2.6.8 in /usr/local/lib/python3.6/dist-packages (from tensorboard<1.15.0,>=1.14.0->tensorflow-gpu==1.14.0) (3.1.1)\n",
            "\u001b[31mERROR: tensorflow 1.14.0rc1 has requirement tensorboard<1.14.0,>=1.13.0, but you'll have tensorboard 1.14.0 which is incompatible.\u001b[0m\n",
            "Installing collected packages: tensorboard, tensorflow-gpu\n",
            "  Found existing installation: tensorboard 1.13.1\n",
            "    Uninstalling tensorboard-1.13.1:\n",
            "      Successfully uninstalled tensorboard-1.13.1\n",
            "Successfully installed tensorboard-1.14.0 tensorflow-gpu-1.14.0\n"
          ],
          "name": "stdout"
        }
      ]
    },
    {
      "cell_type": "code",
      "metadata": {
        "id": "U_Rm-SbVCqL-",
        "colab_type": "code",
        "colab": {
          "base_uri": "https://localhost:8080/",
          "height": 683
        },
        "outputId": "438ebd67-4e88-4dcc-e210-5d46fe74c97e"
      },
      "source": [
        "import numpy as np\n",
        "from keras.models import Model\n",
        "from keras.preprocessing import image\n",
        "from keras.applications.vgg16 import VGG16, preprocess_input\n",
        "\n",
        "base_model = VGG16(weights='imagenet', include_top=True)\n",
        "\n",
        "for i, layer in enumerate(base_model.layers):\n",
        "  print(i, layer.name, layer.output_shape)"
      ],
      "execution_count": 3,
      "outputs": [
        {
          "output_type": "stream",
          "text": [
            "WARNING: Logging before flag parsing goes to stderr.\n",
            "W0624 15:13:33.555932 140567075407744 deprecation_wrapper.py:119] From /usr/local/lib/python3.6/dist-packages/keras/backend/tensorflow_backend.py:74: The name tf.get_default_graph is deprecated. Please use tf.compat.v1.get_default_graph instead.\n",
            "\n",
            "W0624 15:13:33.582881 140567075407744 deprecation_wrapper.py:119] From /usr/local/lib/python3.6/dist-packages/keras/backend/tensorflow_backend.py:517: The name tf.placeholder is deprecated. Please use tf.compat.v1.placeholder instead.\n",
            "\n",
            "W0624 15:13:33.587666 140567075407744 deprecation_wrapper.py:119] From /usr/local/lib/python3.6/dist-packages/keras/backend/tensorflow_backend.py:4138: The name tf.random_uniform is deprecated. Please use tf.random.uniform instead.\n",
            "\n",
            "W0624 15:13:33.619111 140567075407744 deprecation_wrapper.py:119] From /usr/local/lib/python3.6/dist-packages/keras/backend/tensorflow_backend.py:3976: The name tf.nn.max_pool is deprecated. Please use tf.nn.max_pool2d instead.\n",
            "\n"
          ],
          "name": "stderr"
        },
        {
          "output_type": "stream",
          "text": [
            "Downloading data from https://github.com/fchollet/deep-learning-models/releases/download/v0.1/vgg16_weights_tf_dim_ordering_tf_kernels.h5\n",
            "553467904/553467096 [==============================] - 7s 0us/step\n"
          ],
          "name": "stdout"
        },
        {
          "output_type": "stream",
          "text": [
            "W0624 15:13:41.367977 140567075407744 deprecation_wrapper.py:119] From /usr/local/lib/python3.6/dist-packages/keras/backend/tensorflow_backend.py:174: The name tf.get_default_session is deprecated. Please use tf.compat.v1.get_default_session instead.\n",
            "\n",
            "W0624 15:13:41.369283 140567075407744 deprecation_wrapper.py:119] From /usr/local/lib/python3.6/dist-packages/keras/backend/tensorflow_backend.py:181: The name tf.ConfigProto is deprecated. Please use tf.compat.v1.ConfigProto instead.\n",
            "\n"
          ],
          "name": "stderr"
        },
        {
          "output_type": "stream",
          "text": [
            "0 input_1 (None, 224, 224, 3)\n",
            "1 block1_conv1 (None, 224, 224, 64)\n",
            "2 block1_conv2 (None, 224, 224, 64)\n",
            "3 block1_pool (None, 112, 112, 64)\n",
            "4 block2_conv1 (None, 112, 112, 128)\n",
            "5 block2_conv2 (None, 112, 112, 128)\n",
            "6 block2_pool (None, 56, 56, 128)\n",
            "7 block3_conv1 (None, 56, 56, 256)\n",
            "8 block3_conv2 (None, 56, 56, 256)\n",
            "9 block3_conv3 (None, 56, 56, 256)\n",
            "10 block3_pool (None, 28, 28, 256)\n",
            "11 block4_conv1 (None, 28, 28, 512)\n",
            "12 block4_conv2 (None, 28, 28, 512)\n",
            "13 block4_conv3 (None, 28, 28, 512)\n",
            "14 block4_pool (None, 14, 14, 512)\n",
            "15 block5_conv1 (None, 14, 14, 512)\n",
            "16 block5_conv2 (None, 14, 14, 512)\n",
            "17 block5_conv3 (None, 14, 14, 512)\n",
            "18 block5_pool (None, 7, 7, 512)\n",
            "19 flatten (None, 25088)\n",
            "20 fc1 (None, 4096)\n",
            "21 fc2 (None, 4096)\n",
            "22 predictions (None, 1000)\n"
          ],
          "name": "stdout"
        }
      ]
    },
    {
      "cell_type": "code",
      "metadata": {
        "id": "fFdD1nBqDLoX",
        "colab_type": "code",
        "colab": {
          "base_uri": "https://localhost:8080/",
          "height": 224
        },
        "outputId": "eb13a979-cfad-42e1-f81f-8ea8cafb8ffd"
      },
      "source": [
        "!wget https://farm1.staticflickr.com/54/114642317_e19d247b23_b.jpg -O cat.jpg"
      ],
      "execution_count": 5,
      "outputs": [
        {
          "output_type": "stream",
          "text": [
            "--2019-06-24 15:17:57--  https://farm1.staticflickr.com/54/114642317_e19d247b23_b.jpg\n",
            "Resolving farm1.staticflickr.com (farm1.staticflickr.com)... 13.249.137.165, 2600:9000:20d1:600:0:5a51:64c9:c681, 2600:9000:20d1:ac00:0:5a51:64c9:c681, ...\n",
            "Connecting to farm1.staticflickr.com (farm1.staticflickr.com)|13.249.137.165|:443... connected.\n",
            "HTTP request sent, awaiting response... 200 OK\n",
            "Length: 181462 (177K) [image/jpeg]\n",
            "Saving to: ‘cat.jpg’\n",
            "\n",
            "\rcat.jpg               0%[                    ]       0  --.-KB/s               \rcat.jpg             100%[===================>] 177.21K  --.-KB/s    in 0.03s   \n",
            "\n",
            "2019-06-24 15:17:58 (6.63 MB/s) - ‘cat.jpg’ saved [181462/181462]\n",
            "\n"
          ],
          "name": "stdout"
        }
      ]
    },
    {
      "cell_type": "code",
      "metadata": {
        "id": "Gv-6g7DcD4BF",
        "colab_type": "code",
        "colab": {
          "base_uri": "https://localhost:8080/",
          "height": 1462
        },
        "outputId": "291e37ac-8c16-4ab3-d64c-eb88e146ea9b"
      },
      "source": [
        "# Extract features from block4_pool\n",
        "\n",
        "model = Model(\n",
        "    inputs=base_model.input,\n",
        "    outputs=base_model.get_layer('block4_pool').output\n",
        ")\n",
        "\n",
        "img_path = 'cat.jpg'\n",
        "img = image.load_img(img_path, target_size=(224, 224))\n",
        "x = image.img_to_array(img)\n",
        "x = np.expand_dims(x, axis=0)\n",
        "x = preprocess_input(x)\n",
        "\n",
        "features = model.predict(x)\n",
        "\n",
        "features"
      ],
      "execution_count": 12,
      "outputs": [
        {
          "output_type": "execute_result",
          "data": {
            "text/plain": [
              "array([[[[171.41307  ,   0.       ,   0.       , ...,   0.       ,\n",
              "            0.       , 182.12494  ],\n",
              "         [ 75.12726  ,   0.       ,   0.       , ...,   0.       ,\n",
              "            0.       , 182.724    ],\n",
              "         [  0.       ,   0.       ,   0.       , ...,  46.071156 ,\n",
              "            0.       , 152.07457  ],\n",
              "         ...,\n",
              "         [  0.       ,   0.       ,   0.       , ...,   0.       ,\n",
              "            0.       ,   0.       ],\n",
              "         [  0.       ,   0.       ,  30.841349 , ...,  18.065306 ,\n",
              "            0.       ,   0.       ],\n",
              "         [  0.       ,   0.       ,  18.868795 , ...,   0.       ,\n",
              "            0.       , 114.05585  ]],\n",
              "\n",
              "        [[109.80473  ,   0.       ,   0.       , ...,   0.       ,\n",
              "            0.       ,  39.09696  ],\n",
              "         [ 48.98511  ,   0.       ,   0.       , ...,   0.       ,\n",
              "            0.       ,  72.60666  ],\n",
              "         [ 75.16285  ,   0.       ,   0.       , ...,   0.       ,\n",
              "            0.       ,   0.       ],\n",
              "         ...,\n",
              "         [  0.       ,   0.       ,   0.       , ..., 114.32859  ,\n",
              "            2.6179113,   0.       ],\n",
              "         [  0.       ,   0.       ,  61.27912  , ..., 172.7692   ,\n",
              "            0.       ,   0.       ],\n",
              "         [  0.       ,   0.       ,  57.885254 , ...,   0.       ,\n",
              "            0.       ,   0.       ]],\n",
              "\n",
              "        [[167.07176  ,   0.       ,   0.       , ...,   0.       ,\n",
              "            0.       ,   0.       ],\n",
              "         [  1.6226397,   0.       ,   0.       , ...,   0.       ,\n",
              "            0.       ,   0.       ],\n",
              "         [ 28.552753 ,   0.       ,   0.       , ...,   0.       ,\n",
              "            0.       ,   0.       ],\n",
              "         ...,\n",
              "         [  0.       ,   0.       ,   0.       , ...,   0.       ,\n",
              "            8.193816 ,  11.866149 ],\n",
              "         [  0.       ,   0.       ,   0.       , ...,   0.       ,\n",
              "            0.       ,  77.68285  ],\n",
              "         [  0.       ,   0.       ,   0.       , ...,   0.       ,\n",
              "            0.       ,   5.103985 ]],\n",
              "\n",
              "        ...,\n",
              "\n",
              "        [[  0.       ,   0.       ,   0.       , ...,   0.       ,\n",
              "           13.693593 ,   0.       ],\n",
              "         [  0.       ,   0.       ,   0.       , ...,   0.       ,\n",
              "           48.018787 ,   0.       ],\n",
              "         [  0.       ,   0.       ,   0.       , ...,   0.       ,\n",
              "            0.       ,   0.       ],\n",
              "         ...,\n",
              "         [  0.       ,   0.       ,   0.       , ...,   0.       ,\n",
              "            0.       ,   0.       ],\n",
              "         [  0.       ,   0.       ,   0.       , ...,   0.       ,\n",
              "            0.       ,  21.309055 ],\n",
              "         [  0.       ,   0.       ,   0.       , ...,   0.       ,\n",
              "            0.       , 110.138214 ]],\n",
              "\n",
              "        [[  0.       ,   0.       ,   0.       , ...,   0.       ,\n",
              "           25.530672 ,   0.       ],\n",
              "         [  0.       ,   0.       ,   0.       , ...,   0.       ,\n",
              "           61.376774 ,   0.       ],\n",
              "         [  0.       ,   0.       ,   0.       , ...,   0.       ,\n",
              "            0.       ,   0.       ],\n",
              "         ...,\n",
              "         [  0.       ,   0.       ,   0.       , ...,   0.       ,\n",
              "            0.       ,   0.       ],\n",
              "         [  0.       ,   0.       ,   0.       , ...,   0.       ,\n",
              "            0.       ,  11.242527 ],\n",
              "         [  0.       ,   0.       ,   0.       , ...,   0.       ,\n",
              "            0.       , 146.04338  ]],\n",
              "\n",
              "        [[  0.       ,   0.       ,   0.       , ..., 105.29791  ,\n",
              "            0.       ,   0.       ],\n",
              "         [  0.       ,   0.       ,  16.938253 , ...,   0.       ,\n",
              "            0.       ,   0.       ],\n",
              "         [  0.       ,   0.       ,   0.       , ...,   0.       ,\n",
              "            0.       ,   0.       ],\n",
              "         ...,\n",
              "         [  0.       ,   0.       ,   0.       , ...,   0.       ,\n",
              "            0.       ,   0.       ],\n",
              "         [  0.       ,   0.       ,   0.       , ...,  50.13849  ,\n",
              "            0.       ,   0.       ],\n",
              "         [  0.       ,   0.       ,   0.       , ..., 100.03434  ,\n",
              "            0.       ,   0.       ]]]], dtype=float32)"
            ]
          },
          "metadata": {
            "tags": []
          },
          "execution_count": 12
        }
      ]
    }
  ]
}