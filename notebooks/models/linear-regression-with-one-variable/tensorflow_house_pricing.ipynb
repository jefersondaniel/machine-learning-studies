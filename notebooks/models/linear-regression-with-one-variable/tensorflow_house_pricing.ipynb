{
 "cells": [
  {
   "cell_type": "code",
   "execution_count": 1,
   "metadata": {},
   "outputs": [],
   "source": [
    "import numpy as np\n",
    "import tensorflow as tf\n",
    "from sklearn import metrics\n",
    "from tensorflow.python.data import Dataset"
   ]
  },
  {
   "cell_type": "code",
   "execution_count": 2,
   "metadata": {},
   "outputs": [],
   "source": [
    "def input_function(features, targets, batch_size=10, shuffle=True, num_epochs=None):\n",
    "    ds = Dataset.from_tensor_slices((features, targets))\n",
    "    ds = ds.batch(batch_size).repeat(num_epochs)\n",
    "    if shuffle:\n",
    "        ds = ds.shuffle(buffer_size=1000)\n",
    "    features, labels = ds.make_one_shot_iterator().get_next()\n",
    "    return features, labels\n",
    "\n",
    "def house_price(size_in_meters):\n",
    "    return 1.0 + 1.5 * size_in_meters"
   ]
  },
  {
   "cell_type": "code",
   "execution_count": 3,
   "metadata": {},
   "outputs": [
    {
     "name": "stdout",
     "output_type": "stream",
     "text": [
      "\n",
      "WARNING: The TensorFlow contrib module will not be included in TensorFlow 2.0.\n",
      "For more information, please see:\n",
      "  * https://github.com/tensorflow/community/blob/master/rfcs/20180907-contrib-sunset.md\n",
      "  * https://github.com/tensorflow/addons\n",
      "If you depend on functionality not listed there, please file an issue.\n",
      "\n",
      "INFO:tensorflow:Using default config.\n",
      "WARNING:tensorflow:Using temporary folder as model directory: /tmp/tmpzug27v7r\n",
      "INFO:tensorflow:Using config: {'_model_dir': '/tmp/tmpzug27v7r', '_tf_random_seed': None, '_save_summary_steps': 100, '_save_checkpoints_steps': None, '_save_checkpoints_secs': 600, '_session_config': allow_soft_placement: true\n",
      "graph_options {\n",
      "  rewrite_options {\n",
      "    meta_optimizer_iterations: ONE\n",
      "  }\n",
      "}\n",
      ", '_keep_checkpoint_max': 5, '_keep_checkpoint_every_n_hours': 10000, '_log_step_count_steps': 100, '_train_distribute': None, '_device_fn': None, '_protocol': None, '_eval_distribute': None, '_experimental_distribute': None, '_service': None, '_cluster_spec': <tensorflow.python.training.server_lib.ClusterSpec object at 0x7fe09592e048>, '_task_type': 'worker', '_task_id': 0, '_global_id_in_cluster': 0, '_master': '', '_evaluation_master': '', '_is_chief': True, '_num_ps_replicas': 0, '_num_worker_replicas': 1}\n",
      "WARNING:tensorflow:From /usr/local/lib/python3.7/site-packages/tensorflow/python/framework/op_def_library.py:263: colocate_with (from tensorflow.python.framework.ops) is deprecated and will be removed in a future version.\n",
      "Instructions for updating:\n",
      "Colocations handled automatically by placer.\n",
      "INFO:tensorflow:Calling model_fn.\n",
      "WARNING:tensorflow:From /usr/local/lib/python3.7/site-packages/tensorflow/python/feature_column/feature_column_v2.py:2703: to_float (from tensorflow.python.ops.math_ops) is deprecated and will be removed in a future version.\n",
      "Instructions for updating:\n",
      "Use tf.cast instead.\n",
      "INFO:tensorflow:Done calling model_fn.\n",
      "INFO:tensorflow:Create CheckpointSaverHook.\n",
      "INFO:tensorflow:Graph was finalized.\n",
      "INFO:tensorflow:Running local_init_op.\n",
      "INFO:tensorflow:Done running local_init_op.\n",
      "INFO:tensorflow:Saving checkpoints for 0 into /tmp/tmpzug27v7r/model.ckpt.\n",
      "INFO:tensorflow:loss = 65484.0, step = 1\n",
      "INFO:tensorflow:Saving checkpoints for 100 into /tmp/tmpzug27v7r/model.ckpt.\n",
      "INFO:tensorflow:Loss for final step: 28.441656.\n",
      "INFO:tensorflow:Calling model_fn.\n",
      "INFO:tensorflow:Done calling model_fn.\n",
      "INFO:tensorflow:Graph was finalized.\n",
      "WARNING:tensorflow:From /usr/local/lib/python3.7/site-packages/tensorflow/python/training/saver.py:1266: checkpoint_exists (from tensorflow.python.training.checkpoint_management) is deprecated and will be removed in a future version.\n",
      "Instructions for updating:\n",
      "Use standard file APIs to check for files with this prefix.\n",
      "INFO:tensorflow:Restoring parameters from /tmp/tmpzug27v7r/model.ckpt-100\n",
      "INFO:tensorflow:Running local_init_op.\n",
      "INFO:tensorflow:Done running local_init_op.\n",
      "\tresult => [0.034251321107149124, 1.5296626091003418]\n",
      "\tlabels => [16.0, 31.0, 46.0, 61.0, 76.0, 91.0, 106.0, 121.0, 136.0]\n",
      "\tpredictions => [15.330877304077148, 30.627504348754883, 45.924129486083984, 61.22075653076172, 76.51737976074219, 91.81400299072266, 107.11063385009766, 122.40725708007812, 137.70388793945312]\n",
      "\tcost => 0.8542627563898956\n",
      "\n"
     ]
    }
   ],
   "source": [
    "feature_columns = [tf.feature_column.numeric_column('size_in_meters')]\n",
    "optimizer = tf.train.GradientDescentOptimizer(learning_rate=0.009)\n",
    "optimizer = tf.contrib.estimator.clip_gradients_by_norm(optimizer, 5.0)\n",
    "linear_regressor = tf.estimator.LinearRegressor(\n",
    "    feature_columns=feature_columns,\n",
    "    optimizer=optimizer\n",
    ")\n",
    "\n",
    "dataset = np.array([[float(x), float(house_price(x))] for x in range(10, 100, 10)])\n",
    "features = {'size_in_meters': dataset[:, 0]}\n",
    "targets = dataset[:, 1]\n",
    "\n",
    "linear_regressor.train(\n",
    "    input_fn=lambda: input_function(features, targets),\n",
    "    steps=100\n",
    ")\n",
    "\n",
    "predictions = linear_regressor.predict(\n",
    "    input_fn=lambda: input_function(features, targets, num_epochs=1, shuffle=False)\n",
    ")\n",
    "predictions = np.array([item['predictions'][0] for item in predictions])\n",
    "\n",
    "mean_squared_error = metrics.mean_squared_error(predictions, targets)\n",
    "weight = linear_regressor.get_variable_value('linear/linear_model/size_in_meters/weights')[0]\n",
    "bias = linear_regressor.get_variable_value('linear/linear_model/bias_weights')\n",
    "theta = [bias.tolist()[0], weight.tolist()[0]]\n",
    "\n",
    "print('\\tresult => {}'.format(theta))\n",
    "print('\\tlabels => {}'.format(targets.tolist()))\n",
    "print('\\tpredictions => {}'.format(predictions.tolist()))\n",
    "print('\\tcost => {}\\n'.format(mean_squared_error))"
   ]
  }
 ],
 "metadata": {
  "kernelspec": {
   "display_name": "Python 3",
   "language": "python",
   "name": "python3"
  },
  "language_info": {
   "codemirror_mode": {
    "name": "ipython",
    "version": 3
   },
   "file_extension": ".py",
   "mimetype": "text/x-python",
   "name": "python",
   "nbconvert_exporter": "python",
   "pygments_lexer": "ipython3",
   "version": "3.7.3"
  }
 },
 "nbformat": 4,
 "nbformat_minor": 2
}
